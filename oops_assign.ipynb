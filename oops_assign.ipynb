{
 "cells": [
  {
   "cell_type": "markdown",
   "id": "13f3cd43-fcbf-4b91-8e38-7c94bdc97db4",
   "metadata": {},
   "source": [
    "Q1. Explain Class and Object with respect to Object-Oriented Programming. Give a suitable example."
   ]
  },
  {
   "cell_type": "markdown",
   "id": "7af3663a-565c-423f-b525-fbd8cd24d8c6",
   "metadata": {},
   "source": [
    "Solution:\n",
    "    In object-oriented programming, a class is a blueprint or a template for creating objects, while an object is an instance of a class. All data members and member functions of the class can be accessed with the help of objects. When a class is defined, no memory is allocated, but memory is allocated when it is instantiated (i.e. an object is created)."
   ]
  },
  {
   "cell_type": "code",
   "execution_count": 1,
   "id": "e6db60ad-c366-4bcc-b86b-f584640af7bc",
   "metadata": {},
   "outputs": [],
   "source": [
    "class Employee:\n",
    "    def __init__(self,name,salary):\n",
    "        self.name = name\n",
    "        self.salary = salary\n",
    "        \n",
    "    def show_details(self):\n",
    "        print(f'The salry of {self.name} is {self.salary}')\n",
    "        "
   ]
  },
  {
   "cell_type": "code",
   "execution_count": 2,
   "id": "48877a60-8907-42b7-aa72-e7160f7cbaf1",
   "metadata": {},
   "outputs": [],
   "source": [
    "obj = Employee(\"harry\",200)"
   ]
  },
  {
   "cell_type": "code",
   "execution_count": 3,
   "id": "aac34002-42ef-4784-ae1a-29b8fca9d46d",
   "metadata": {},
   "outputs": [
    {
     "name": "stdout",
     "output_type": "stream",
     "text": [
      "The salry of harry is 200\n"
     ]
    }
   ],
   "source": [
    "obj.show_details()"
   ]
  },
  {
   "cell_type": "code",
   "execution_count": null,
   "id": "600836a6-7080-4993-b396-5e7e6c15384d",
   "metadata": {},
   "outputs": [],
   "source": []
  },
  {
   "cell_type": "markdown",
   "id": "1d0d15c7-27b4-492d-be50-50b7f32b1404",
   "metadata": {},
   "source": [
    "Q2. Name the four pillars of OOPs."
   ]
  },
  {
   "cell_type": "code",
   "execution_count": null,
   "id": "d53e9192-5470-4707-80f7-4fed1e7f7ff1",
   "metadata": {},
   "outputs": [],
   "source": []
  },
  {
   "cell_type": "markdown",
   "id": "ded19d8e-8f27-4e83-b7b7-1e1b03018d9a",
   "metadata": {},
   "source": [
    "Solution:\n",
    "    The four pillars of OOPs are\n",
    "    \n",
    "    - Abstraction\n",
    "    \n",
    "    - Encapsulation\n",
    "    \n",
    "    - Inheritance\n",
    "    \n",
    "    - Polymorphism"
   ]
  },
  {
   "cell_type": "code",
   "execution_count": null,
   "id": "825516ac-8435-41e1-b5f6-e40fe165e452",
   "metadata": {},
   "outputs": [],
   "source": []
  },
  {
   "cell_type": "markdown",
   "id": "01e86a2c-3887-4e6a-841c-2655d0f09b1c",
   "metadata": {},
   "source": [
    "Q3. Explain why the __init__() function is used. Give a suitable example."
   ]
  },
  {
   "cell_type": "markdown",
   "id": "dd42808a-ea64-4c6c-a5f2-6904867adfc5",
   "metadata": {},
   "source": [
    "Solution:"
   ]
  },
  {
   "cell_type": "markdown",
   "id": "7505fa1a-dc14-47db-a378-e36e5129c956",
   "metadata": {},
   "source": [
    "In Python, the __init__() function is used to initialize the object’s properties. It is called automatically every time the class is being used to create a new object"
   ]
  },
  {
   "cell_type": "code",
   "execution_count": 5,
   "id": "3df0807a-90de-48f7-9ce3-f180968b39e8",
   "metadata": {},
   "outputs": [],
   "source": [
    "class Person:\n",
    "  def __init__(self, name, age):\n",
    "    self.name = name\n",
    "    self.age = age\n",
    "\n",
    "p1 = Person(\"John\", 36)\n",
    "\n"
   ]
  },
  {
   "cell_type": "code",
   "execution_count": 6,
   "id": "5699a40c-c4a2-40ad-8b40-c8b3650c2e4f",
   "metadata": {},
   "outputs": [
    {
     "data": {
      "text/plain": [
       "'John'"
      ]
     },
     "execution_count": 6,
     "metadata": {},
     "output_type": "execute_result"
    }
   ],
   "source": [
    "p1.name"
   ]
  },
  {
   "cell_type": "code",
   "execution_count": 7,
   "id": "296ca7a1-3420-4b70-b8b4-6c7e27788cfb",
   "metadata": {},
   "outputs": [
    {
     "data": {
      "text/plain": [
       "36"
      ]
     },
     "execution_count": 7,
     "metadata": {},
     "output_type": "execute_result"
    }
   ],
   "source": [
    "p1.age"
   ]
  },
  {
   "cell_type": "code",
   "execution_count": null,
   "id": "9cb79e0e-bfe1-4ffc-88cd-f854a2dc435d",
   "metadata": {},
   "outputs": [],
   "source": []
  },
  {
   "cell_type": "markdown",
   "id": "e4626fe9-2a8e-427e-8d0d-002cdb999ad8",
   "metadata": {},
   "source": [
    "Q4. Why self is used in OOPs?"
   ]
  },
  {
   "cell_type": "markdown",
   "id": "1d9d81e1-8966-4e0e-aca6-c1e2ae57aad6",
   "metadata": {},
   "source": [
    "Solution:"
   ]
  },
  {
   "cell_type": "markdown",
   "id": "9b289b81-0328-4957-8d20-7e194b62db11",
   "metadata": {},
   "source": [
    "In object-oriented programming, self is used to refer to the instance of the class. It is a reference to the object that is being created"
   ]
  },
  {
   "cell_type": "code",
   "execution_count": null,
   "id": "bd87326a-5db9-45d1-9e26-c2462aa9e147",
   "metadata": {},
   "outputs": [],
   "source": []
  },
  {
   "cell_type": "markdown",
   "id": "34b3c89e-3d36-4a13-a844-eb7faa4b4213",
   "metadata": {},
   "source": [
    "Q5. What is inheritance? Give an example for each type of inheritance."
   ]
  },
  {
   "cell_type": "markdown",
   "id": "2467187a-a034-4046-b9c4-c2ec5fc53750",
   "metadata": {},
   "source": [
    "Solution:"
   ]
  },
  {
   "cell_type": "markdown",
   "id": "c2c1beea-6067-423f-8d9b-cf4e30ffabc4",
   "metadata": {},
   "source": [
    "Inheritance is a mechanism in object-oriented programming that allows one class to inherit properties and methods from another class. The class that inherits the properties is called the subclass or derived class, while the class that provides the properties is called the superclass or base class.\n",
    "\n",
    "There are four types of inheritance:\n",
    "\n",
    "Single inheritance\n",
    "\n",
    "Multiple inheritance\n",
    "\n",
    "Hierarchical Inheritance\n",
    "\n",
    "Hybrid Inheritance"
   ]
  },
  {
   "cell_type": "code",
   "execution_count": 16,
   "id": "730eee2f-436f-4554-9177-da023caed3f5",
   "metadata": {},
   "outputs": [],
   "source": [
    "# Single inheritance: A subclass inherits from a single superclass.\n",
    "class Company:\n",
    "    \n",
    "    company = \"amazon\"\n",
    "    \n",
    "    def __init__(self ,name):\n",
    "        self.name = name\n",
    "    \n",
    "\n",
    "    def show_details(self):\n",
    "        print(f\"The name of the person in the {self.company} is  {self.name}\")\n",
    "\n",
    "class Employee(Company):\n",
    "    def __init__(self,name,salary):\n",
    "        super().__init__(name)\n",
    "        self.salary = salary\n",
    "        \n",
    "    def show_details(self):\n",
    "        super().show_details()\n",
    "        print(f\"The salary of {self.name} in {self.company} is {self.salary}\")\n",
    "        \n",
    "\n"
   ]
  },
  {
   "cell_type": "code",
   "execution_count": 19,
   "id": "1103415b-c9db-41a3-b734-accc5b324726",
   "metadata": {},
   "outputs": [
    {
     "data": {
      "text/plain": [
       "'Harry'"
      ]
     },
     "execution_count": 19,
     "metadata": {},
     "output_type": "execute_result"
    }
   ],
   "source": [
    "obj = Employee(\"Harry\",2000)\n",
    "obj.name"
   ]
  },
  {
   "cell_type": "code",
   "execution_count": 20,
   "id": "c5534f18-d62e-4b03-ae35-e5c2e154bb44",
   "metadata": {},
   "outputs": [
    {
     "name": "stdout",
     "output_type": "stream",
     "text": [
      "The name of the person in the amazon is  Harry\n",
      "The salary of Harry in amazon is 2000\n"
     ]
    }
   ],
   "source": [
    "obj.show_details()"
   ]
  },
  {
   "cell_type": "code",
   "execution_count": null,
   "id": "ff3dcb8d-6ec7-4d11-9d5a-11d97b6a13d0",
   "metadata": {},
   "outputs": [],
   "source": []
  },
  {
   "cell_type": "code",
   "execution_count": 24,
   "id": "fb03777b-b5e3-4c24-800a-4798cb05ee60",
   "metadata": {},
   "outputs": [
    {
     "name": "stdout",
     "output_type": "stream",
     "text": [
      "In Class2\n"
     ]
    }
   ],
   "source": [
    "# Multiple inheritance: A subclass inherits from multiple superclasses.\n",
    "\n",
    "class Class1:\n",
    "    def m(self):\n",
    "        print(\"In Class1\")\n",
    "       \n",
    "class Class2(Class1):\n",
    "    def m(self):\n",
    "        print(\"In Class2\")\n",
    " \n",
    "class Class3(Class1):\n",
    "    def m(self):\n",
    "        print(\"In Class3\") \n",
    "        \n",
    "class Class4(Class2, Class3):\n",
    "    pass  \n",
    "     \n",
    "obj = Class4()\n",
    "obj.m()"
   ]
  },
  {
   "cell_type": "code",
   "execution_count": null,
   "id": "8747b9c4-f3ed-4563-b26f-f99a7d3aa791",
   "metadata": {},
   "outputs": [],
   "source": []
  },
  {
   "cell_type": "code",
   "execution_count": 26,
   "id": "7f64f52f-6706-4e36-b535-29ff93818667",
   "metadata": {},
   "outputs": [
    {
     "name": "stdout",
     "output_type": "stream",
     "text": [
      "Employee Name: Khush\n",
      "Salary: 10000\n",
      "Designation: Test Engineer\n"
     ]
    }
   ],
   "source": [
    "# multilevel inheritance\n",
    "\n",
    "class Employees(): \n",
    " \n",
    "   def Name(self): \n",
    "        print(\"Employee Name: Khush\")\n",
    " \n",
    "\n",
    "class salary(Employees):\n",
    "    def Salary(self):\n",
    "        print(\"Salary: 10000\")\n",
    " \n",
    "class Designation(salary):\n",
    "    def desig(self):\n",
    "        print (\"Designation: Test Engineer\")\n",
    " \n",
    "call = Designation()\n",
    "call.Name()\n",
    "call.Salary()\n",
    "call.desig()"
   ]
  },
  {
   "cell_type": "code",
   "execution_count": null,
   "id": "ade46652-7880-46cb-8d22-289af9b24bfa",
   "metadata": {},
   "outputs": [],
   "source": []
  },
  {
   "cell_type": "code",
   "execution_count": 27,
   "id": "8eaa5a52-8720-4bc2-943c-fa29fb10503d",
   "metadata": {},
   "outputs": [
    {
     "name": "stdout",
     "output_type": "stream",
     "text": [
      "This function is in parent class.\n",
      "This function is in child 1.\n",
      "This function is in parent class.\n",
      "This function is in child 2.\n"
     ]
    }
   ],
   "source": [
    "\n",
    "# Base class\n",
    "class Parent:\n",
    "    def func1(self):\n",
    "        print(\"This function is in parent class.\")\n",
    " \n",
    "# Derived class1\n",
    " \n",
    " \n",
    "class Child1(Parent):\n",
    "    def func2(self):\n",
    "        print(\"This function is in child 1.\")\n",
    " \n",
    "# Derivied class2\n",
    " \n",
    " \n",
    "class Child2(Parent):\n",
    "    def func3(self):\n",
    "        print(\"This function is in child 2.\")\n",
    " \n",
    " \n",
    "# Driver's code\n",
    "object1 = Child1()\n",
    "object2 = Child2()\n",
    "object1.func1()\n",
    "object1.func2()\n",
    "object2.func1()\n",
    "object2.func3()"
   ]
  },
  {
   "cell_type": "code",
   "execution_count": null,
   "id": "dde37de6-024c-4c30-b4b6-2c3fb4d7c5f7",
   "metadata": {},
   "outputs": [],
   "source": []
  }
 ],
 "metadata": {
  "kernelspec": {
   "display_name": "Python 3 (ipykernel)",
   "language": "python",
   "name": "python3"
  },
  "language_info": {
   "codemirror_mode": {
    "name": "ipython",
    "version": 3
   },
   "file_extension": ".py",
   "mimetype": "text/x-python",
   "name": "python",
   "nbconvert_exporter": "python",
   "pygments_lexer": "ipython3",
   "version": "3.10.8"
  }
 },
 "nbformat": 4,
 "nbformat_minor": 5
}
